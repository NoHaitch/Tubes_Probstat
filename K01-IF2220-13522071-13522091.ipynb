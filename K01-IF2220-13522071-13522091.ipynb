{
 "cells": [
  {
   "cell_type": "markdown",
   "id": "24e76fe82f2eace9",
   "metadata": {},
   "source": [
    "<div align=\"center\">\n",
    "    <h1 align=\"center\">Tugas Besar IF2220 Probabilitas dan Statistika 2023/2024</h1>\n",
    "    <h3>Topik : Health</h3>\n",
    "    <strong>\n",
    "        <h4>Dibuat oleh: </h4>\n",
    "        <h4>K01 - Kelompok 24</h4>\n",
    "            <table>\n",
    "              <tr>\n",
    "                <td>NIM</td>\n",
    "                <td>Nama</td>\n",
    "              </tr>\n",
    "              <tr>\n",
    "                <td>13522071</td>\n",
    "                <td>Bagas Sambega Rosyada</td>\n",
    "              </tr>\n",
    "              <tr>\n",
    "                <td>13522091</td>\n",
    "                <td>Raden Francisco Trianto Bratadiningrat</td>\n",
    "              </tr>\n",
    "            </table>\n",
    "      </strong>\n",
    "</div>\n"
   ]
  },
  {
   "cell_type": "markdown",
   "id": "6001a7b28f2fc6c5",
   "metadata": {},
   "source": [
    "## Inisialisasi Dependencies Python dan Pembacaan Data"
   ]
  },
  {
   "cell_type": "code",
   "execution_count": 1,
   "id": "a364fb790004e502",
   "metadata": {
    "ExecuteTime": {
     "end_time": "2024-05-10T15:42:21.694726Z",
     "start_time": "2024-05-10T15:42:20.640510Z"
    }
   },
   "outputs": [
    {
     "name": "stdout",
     "output_type": "stream",
     "text": [
      "<class 'pandas.core.frame.DataFrame'>\n",
      "Index: 2000 entries, 0 to 1999\n",
      "Data columns (total 11 columns):\n",
      " #   Column                   Non-Null Count  Dtype  \n",
      "---  ------                   --------------  -----  \n",
      " 0   Age                      2000 non-null   int64  \n",
      " 1   Income                   2000 non-null   float64\n",
      " 2   Gender                   2000 non-null   object \n",
      " 3   Education                2000 non-null   object \n",
      " 4   Stress_Level             2000 non-null   float64\n",
      " 5   Exercise_Hours_Per_Week  2000 non-null   float64\n",
      " 6   Cholesterol_Level        2000 non-null   float64\n",
      " 7   Weight                   2000 non-null   float64\n",
      " 8   Height                   2000 non-null   float64\n",
      " 9   Blood_Pressure           2000 non-null   float64\n",
      " 10  Health_Status            2000 non-null   object \n",
      "dtypes: float64(7), int64(1), object(3)\n",
      "memory usage: 187.5+ KB\n"
     ]
    }
   ],
   "source": [
    "import pandas as pd\n",
    "import matplotlib.pyplot as plt\n",
    "import numpy as np\n",
    "\n",
    "# Read data from CSV\n",
    "data = pd.read_csv(\"health.csv\", index_col=0)\n",
    "data.info()"
   ]
  },
  {
   "cell_type": "markdown",
   "id": "ddebdf6199882252",
   "metadata": {},
   "source": [
    "# Soal General\n",
    "\n",
    "## Nomor 1\n",
    "\n",
    "Menulis deskripsi statistika (Descriptive Statistics) dari semua kolom pada data. Data\n",
    "yang bersifat numerik dapat diberikan nilai mean, median, modus, standar deviasi,\n",
    "variansi, range, nilai minimum, maksimum, kuartil, IQR, skewness dan kurtosis. Data\n",
    "dalam bentuk string dapat dicari unique values, dan proporsi nya."
   ]
  },
  {
   "cell_type": "markdown",
   "id": "5acf42e4df82a557",
   "metadata": {},
   "source": [
    "### Jawab: Menulis Deskripsi Statistika dari semua kolom pada data\n",
    "\n",
    "Kolom-Kolom dibagi menjadi bentuk data numerik dan string:\n",
    "- String: Gender, Education, Health_Status\n",
    "- Numerik: Age, Income, Stress_level, Exercise_Hours_Per_Week, Cholesterol_Level, Weight, Height, Blood_Pressure\n",
    "\n",
    "#### Data String\n",
    "\n",
    "Untuk data string akan dicari:\n",
    "- Unique values\n",
    "- Proporsi"
   ]
  },
  {
   "cell_type": "code",
   "execution_count": 2,
   "id": "ef1241947ecc3af2",
   "metadata": {
    "ExecuteTime": {
     "end_time": "2024-05-10T15:42:21.733380Z",
     "start_time": "2024-05-10T15:42:21.696734Z"
    }
   },
   "outputs": [
    {
     "name": "stdout",
     "output_type": "stream",
     "text": [
      "Data for Gender\n",
      "  Unique Value  Frekuensi  Proporsi (%)\n",
      "0       Female       1011         50.55\n",
      "1         Male        989         49.45\n",
      "\n",
      "\n",
      "Data for Education\n",
      "        Unique Value  Frekuensi  Proporsi (%)\n",
      "0  Bachelor's Degree        940         47.00\n",
      "1    Master's Degree        482         24.10\n",
      "2        High School        271         13.55\n",
      "3                PhD        247         12.35\n",
      "4              Other         57          2.85\n",
      "5          undefined          3          0.15\n",
      "\n",
      "\n",
      "Data for Health_Status\n",
      "  Unique Value  Frekuensi  Proporsi (%)\n",
      "0         Fair        519         25.95\n",
      "1         Poor        504         25.20\n",
      "2    Excellent        503         25.15\n",
      "3         Good        474         23.70\n",
      "\n",
      "\n"
     ]
    }
   ],
   "source": [
    "# Get columns with string type\n",
    "string_columns = data.select_dtypes(include=['object']).columns\n",
    "\n",
    "# For all colum with type string\n",
    "for column in string_columns:\n",
    "    stat = pd.DataFrame()\n",
    "    \n",
    "    # Get unique values and their counts\n",
    "    unique_values = data[column].value_counts()\n",
    "    \n",
    "    # Calculate proportions\n",
    "    proportions = unique_values*100 / len(data)\n",
    "\n",
    "    # Construct frame\n",
    "    stat[\"Unique Value\"] = unique_values.index\n",
    "    stat[\"Frekuensi\"] = unique_values.values\n",
    "    stat[\"Proporsi (%)\"] = proportions.values\n",
    "    \n",
    "    # Print result\n",
    "    print(\"Data for \" + column)\n",
    "    print(stat)\n",
    "    print(\"\\n\")"
   ]
  },
  {
   "cell_type": "markdown",
   "id": "65d3daf13d36e11f",
   "metadata": {},
   "source": [
    "#### Data Numerik\n",
    "\n",
    "Untuk data numerik akan dicari:\n",
    "- mean \n",
    "- median\n",
    "- modus\n",
    "- standar deviasi\n",
    "- variansi\n",
    "- range\n",
    "- minimum\n",
    "- maksimum\n",
    "- kuartil\n",
    "- IQR\n",
    "- skewness\n",
    "- kurtosis"
   ]
  },
  {
   "cell_type": "code",
   "execution_count": 3,
   "id": "b6ddc3d3a89d8755",
   "metadata": {
    "ExecuteTime": {
     "end_time": "2024-05-10T15:42:21.798056Z",
     "start_time": "2024-05-10T15:42:21.734378Z"
    }
   },
   "outputs": [
    {
     "data": {
      "text/html": [
       "<div>\n",
       "<style scoped>\n",
       "    .dataframe tbody tr th:only-of-type {\n",
       "        vertical-align: middle;\n",
       "    }\n",
       "\n",
       "    .dataframe tbody tr th {\n",
       "        vertical-align: top;\n",
       "    }\n",
       "\n",
       "    .dataframe thead th {\n",
       "        text-align: right;\n",
       "    }\n",
       "</style>\n",
       "<table border=\"1\" class=\"dataframe\">\n",
       "  <thead>\n",
       "    <tr style=\"text-align: right;\">\n",
       "      <th></th>\n",
       "      <th>Mean</th>\n",
       "      <th>Median</th>\n",
       "      <th>Modus</th>\n",
       "      <th>Deviasi</th>\n",
       "      <th>Variansi</th>\n",
       "      <th>Min</th>\n",
       "      <th>Max</th>\n",
       "      <th>Q1</th>\n",
       "      <th>Q2</th>\n",
       "      <th>Q3</th>\n",
       "      <th>IQR</th>\n",
       "      <th>Skewness</th>\n",
       "      <th>Kurotisis</th>\n",
       "    </tr>\n",
       "  </thead>\n",
       "  <tbody>\n",
       "    <tr>\n",
       "      <th>Age</th>\n",
       "      <td>3.941221e+01</td>\n",
       "      <td>3.900000e+01</td>\n",
       "      <td>53</td>\n",
       "      <td>1.156122e+01</td>\n",
       "      <td>1.336618e+02</td>\n",
       "      <td>2.000000e+01</td>\n",
       "      <td>5.900000e+01</td>\n",
       "      <td>3.000000e+01</td>\n",
       "      <td>3.900000e+01</td>\n",
       "      <td>4.900000e+01</td>\n",
       "      <td>1.900000e+01</td>\n",
       "      <td>-0.004303</td>\n",
       "      <td>-1.203143</td>\n",
       "    </tr>\n",
       "    <tr>\n",
       "      <th>Income</th>\n",
       "      <td>4.890827e+06</td>\n",
       "      <td>4.901045e+06</td>\n",
       "      <td>multivalue</td>\n",
       "      <td>2.010896e+06</td>\n",
       "      <td>4.043704e+12</td>\n",
       "      <td>-1.088987e+06</td>\n",
       "      <td>1.222749e+07</td>\n",
       "      <td>3.583588e+06</td>\n",
       "      <td>4.901045e+06</td>\n",
       "      <td>6.272831e+06</td>\n",
       "      <td>2.689244e+06</td>\n",
       "      <td>-0.007338</td>\n",
       "      <td>-0.030979</td>\n",
       "    </tr>\n",
       "    <tr>\n",
       "      <th>Stress_Level</th>\n",
       "      <td>5.357107e+00</td>\n",
       "      <td>5.351845e+00</td>\n",
       "      <td>multivalue</td>\n",
       "      <td>9.172572e-01</td>\n",
       "      <td>8.413608e-01</td>\n",
       "      <td>2.528057e+00</td>\n",
       "      <td>8.581327e+00</td>\n",
       "      <td>4.737546e+00</td>\n",
       "      <td>5.351845e+00</td>\n",
       "      <td>6.003318e+00</td>\n",
       "      <td>1.265772e+00</td>\n",
       "      <td>-0.013186</td>\n",
       "      <td>-0.130741</td>\n",
       "    </tr>\n",
       "    <tr>\n",
       "      <th>Exercise_Hours_Per_Week</th>\n",
       "      <td>9.948500e+00</td>\n",
       "      <td>9.921183e+00</td>\n",
       "      <td>multivalue</td>\n",
       "      <td>4.908526e+00</td>\n",
       "      <td>2.409363e+01</td>\n",
       "      <td>-4.499310e+00</td>\n",
       "      <td>2.681636e+01</td>\n",
       "      <td>6.654121e+00</td>\n",
       "      <td>9.921183e+00</td>\n",
       "      <td>1.322680e+01</td>\n",
       "      <td>6.572674e+00</td>\n",
       "      <td>0.061877</td>\n",
       "      <td>0.020860</td>\n",
       "    </tr>\n",
       "    <tr>\n",
       "      <th>Cholesterol_Level</th>\n",
       "      <td>2.002231e+02</td>\n",
       "      <td>2.002214e+02</td>\n",
       "      <td>multivalue</td>\n",
       "      <td>9.728273e-01</td>\n",
       "      <td>9.463929e-01</td>\n",
       "      <td>1.969149e+02</td>\n",
       "      <td>2.031623e+02</td>\n",
       "      <td>1.995820e+02</td>\n",
       "      <td>2.002214e+02</td>\n",
       "      <td>2.008741e+02</td>\n",
       "      <td>1.292162e+00</td>\n",
       "      <td>-0.071811</td>\n",
       "      <td>0.004347</td>\n",
       "    </tr>\n",
       "    <tr>\n",
       "      <th>Weight</th>\n",
       "      <td>7.023402e+01</td>\n",
       "      <td>7.038939e+01</td>\n",
       "      <td>multivalue</td>\n",
       "      <td>1.017688e+01</td>\n",
       "      <td>1.035688e+02</td>\n",
       "      <td>3.258176e+01</td>\n",
       "      <td>1.096096e+02</td>\n",
       "      <td>6.364453e+01</td>\n",
       "      <td>7.038939e+01</td>\n",
       "      <td>7.690168e+01</td>\n",
       "      <td>1.325715e+01</td>\n",
       "      <td>-0.057491</td>\n",
       "      <td>0.123175</td>\n",
       "    </tr>\n",
       "    <tr>\n",
       "      <th>Height</th>\n",
       "      <td>1.507307e+02</td>\n",
       "      <td>1.506636e+02</td>\n",
       "      <td>multivalue</td>\n",
       "      <td>6.805736e-01</td>\n",
       "      <td>4.631804e-01</td>\n",
       "      <td>1.491246e+02</td>\n",
       "      <td>1.538705e+02</td>\n",
       "      <td>1.502399e+02</td>\n",
       "      <td>1.506636e+02</td>\n",
       "      <td>1.511405e+02</td>\n",
       "      <td>9.006178e-01</td>\n",
       "      <td>0.656357</td>\n",
       "      <td>0.706462</td>\n",
       "    </tr>\n",
       "    <tr>\n",
       "      <th>Blood_Pressure</th>\n",
       "      <td>1.196795e+02</td>\n",
       "      <td>1.199218e+02</td>\n",
       "      <td>0.0</td>\n",
       "      <td>1.120344e+01</td>\n",
       "      <td>1.255171e+02</td>\n",
       "      <td>0.000000e+00</td>\n",
       "      <td>2.009500e+02</td>\n",
       "      <td>1.130482e+02</td>\n",
       "      <td>1.199218e+02</td>\n",
       "      <td>1.266116e+02</td>\n",
       "      <td>1.356333e+01</td>\n",
       "      <td>-1.625951</td>\n",
       "      <td>18.831882</td>\n",
       "    </tr>\n",
       "  </tbody>\n",
       "</table>\n",
       "</div>"
      ],
      "text/plain": [
       "                                 Mean        Median       Modus       Deviasi  \\\n",
       "Age                      3.941221e+01  3.900000e+01          53  1.156122e+01   \n",
       "Income                   4.890827e+06  4.901045e+06  multivalue  2.010896e+06   \n",
       "Stress_Level             5.357107e+00  5.351845e+00  multivalue  9.172572e-01   \n",
       "Exercise_Hours_Per_Week  9.948500e+00  9.921183e+00  multivalue  4.908526e+00   \n",
       "Cholesterol_Level        2.002231e+02  2.002214e+02  multivalue  9.728273e-01   \n",
       "Weight                   7.023402e+01  7.038939e+01  multivalue  1.017688e+01   \n",
       "Height                   1.507307e+02  1.506636e+02  multivalue  6.805736e-01   \n",
       "Blood_Pressure           1.196795e+02  1.199218e+02         0.0  1.120344e+01   \n",
       "\n",
       "                             Variansi           Min           Max  \\\n",
       "Age                      1.336618e+02  2.000000e+01  5.900000e+01   \n",
       "Income                   4.043704e+12 -1.088987e+06  1.222749e+07   \n",
       "Stress_Level             8.413608e-01  2.528057e+00  8.581327e+00   \n",
       "Exercise_Hours_Per_Week  2.409363e+01 -4.499310e+00  2.681636e+01   \n",
       "Cholesterol_Level        9.463929e-01  1.969149e+02  2.031623e+02   \n",
       "Weight                   1.035688e+02  3.258176e+01  1.096096e+02   \n",
       "Height                   4.631804e-01  1.491246e+02  1.538705e+02   \n",
       "Blood_Pressure           1.255171e+02  0.000000e+00  2.009500e+02   \n",
       "\n",
       "                                   Q1            Q2            Q3  \\\n",
       "Age                      3.000000e+01  3.900000e+01  4.900000e+01   \n",
       "Income                   3.583588e+06  4.901045e+06  6.272831e+06   \n",
       "Stress_Level             4.737546e+00  5.351845e+00  6.003318e+00   \n",
       "Exercise_Hours_Per_Week  6.654121e+00  9.921183e+00  1.322680e+01   \n",
       "Cholesterol_Level        1.995820e+02  2.002214e+02  2.008741e+02   \n",
       "Weight                   6.364453e+01  7.038939e+01  7.690168e+01   \n",
       "Height                   1.502399e+02  1.506636e+02  1.511405e+02   \n",
       "Blood_Pressure           1.130482e+02  1.199218e+02  1.266116e+02   \n",
       "\n",
       "                                  IQR  Skewness  Kurotisis  \n",
       "Age                      1.900000e+01 -0.004303  -1.203143  \n",
       "Income                   2.689244e+06 -0.007338  -0.030979  \n",
       "Stress_Level             1.265772e+00 -0.013186  -0.130741  \n",
       "Exercise_Hours_Per_Week  6.572674e+00  0.061877   0.020860  \n",
       "Cholesterol_Level        1.292162e+00 -0.071811   0.004347  \n",
       "Weight                   1.325715e+01 -0.057491   0.123175  \n",
       "Height                   9.006178e-01  0.656357   0.706462  \n",
       "Blood_Pressure           1.356333e+01 -1.625951  18.831882  "
      ]
     },
     "execution_count": 3,
     "metadata": {},
     "output_type": "execute_result"
    }
   ],
   "source": [
    "# Get numeric data\n",
    "numerik_data = data.select_dtypes(include=['number']).drop(0)\n",
    "\n",
    "# Calculate the mode for each column\n",
    "def get_mode(x: pd.DataFrame) -> pd.Series | None:\n",
    "    try:\n",
    "        mode = x.mode()[1]\n",
    "        mode = 'multivalue'\n",
    "    except KeyError:\n",
    "        mode = x.mode()[0]\n",
    "    return mode\n",
    "\n",
    "# Construct dataframe\n",
    "numerik_stat = pd.DataFrame()\n",
    "\n",
    "numerik_stat[\"Mean\"] = numerik_data.mean()\n",
    "numerik_stat[\"Median\"] = numerik_data.median()\n",
    "numerik_stat[\"Modus\"] = numerik_data.apply(get_mode)\n",
    "numerik_stat[\"Deviasi\"] = numerik_data.std()\n",
    "numerik_stat[\"Variansi\"] = numerik_data.var()\n",
    "numerik_stat[\"Min\"] = numerik_data.min()\n",
    "numerik_stat[\"Max\"] = numerik_data.max()\n",
    "numerik_stat[\"Q1\"] = numerik_data.quantile(0.25)\n",
    "numerik_stat[\"Q2\"] = numerik_data.quantile(0.5)\n",
    "numerik_stat[\"Q3\"] = numerik_data.quantile(0.75)\n",
    "numerik_stat[\"IQR\"] = numerik_stat[\"Q3\"] - numerik_stat[\"Q1\"]\n",
    "numerik_stat[\"Skewness\"] = numerik_data.skew()\n",
    "numerik_stat[\"Kurotisis\"] = numerik_data.kurtosis()\n",
    "\n",
    "# Print result\n",
    "numerik_stat"
   ]
  },
  {
   "cell_type": "markdown",
   "id": "476aaeb75bae900",
   "metadata": {},
   "source": [
    "## Nomor 2\n",
    "\n",
    "Apakah pada data tersebut terdapat outlier? Jika ya, dapatkah anda menanganinya?\n",
    "Jelaskan apa yang umumnya dilakukan untuk menangani outlier."
   ]
  },
  {
   "cell_type": "code",
   "execution_count": 3,
   "id": "ce732dede4165444",
   "metadata": {
    "ExecuteTime": {
     "end_time": "2024-05-10T15:42:21.803046Z",
     "start_time": "2024-05-10T15:42:21.799038Z"
    }
   },
   "outputs": [],
   "source": []
  },
  {
   "cell_type": "markdown",
   "id": "a775699c244ab6ab",
   "metadata": {},
   "source": [
    "## Nomor 3\n",
    "\n",
    "Membuat Visualisasi plot distribusi. Berikan uraian penjelasan kondisi setiap kolom\n",
    "berdasarkan kedua plot tersebut. Jika numerik dapat dibuat dalam bentuk histogram dan\n",
    "box plot, dan jika string dengan histogram."
   ]
  },
  {
   "cell_type": "code",
   "execution_count": 3,
   "id": "96fab2a9a5729d3a",
   "metadata": {
    "ExecuteTime": {
     "end_time": "2024-05-10T15:42:21.809791Z",
     "start_time": "2024-05-10T15:42:21.806043Z"
    }
   },
   "outputs": [],
   "source": []
  },
  {
   "cell_type": "markdown",
   "id": "f13e96fc8b393c5",
   "metadata": {},
   "source": [
    "## Nomor 4\n",
    "\n",
    "Menentukan distribusi setiap kolom numerik menggunakan hasil visualisasi histogram.\n",
    "Apakah kolom tersebut berdistribusi normal? Jika bukan, terdistribusi seperti apa kolom\n",
    "tersebut?"
   ]
  },
  {
   "cell_type": "code",
   "execution_count": 3,
   "id": "63b8867428443038",
   "metadata": {
    "ExecuteTime": {
     "end_time": "2024-05-10T15:42:21.816665Z",
     "start_time": "2024-05-10T15:42:21.812786Z"
    }
   },
   "outputs": [],
   "source": []
  },
  {
   "cell_type": "markdown",
   "id": "bebb1023f05f925d",
   "metadata": {},
   "source": [
    "# Soal khusus dataset\n",
    "\n",
    "Mira adalah seorang peneliti kesehatan yang bekerja di sebuah lembaga riset medis\n",
    "yang terkemuka. Sebagai bagian dari tugasnya, Mira memiliki akses ke sebuah dataset yang\n",
    "berisi informasi tentang profil kesehatan dan gaya hidup dari sejumlah individu. Mira\n",
    "bertanggung jawab untuk melakukan analisis statistika terhadap dataset ini guna mendapatkan\n",
    "pemahaman yang lebih baik tentang faktor-faktor yang mempengaruhi kesehatan dan kualitas\n",
    "hidup individu. Selain itu, Mira juga diminta untuk mengidentifikasi pola dan hubungan yang\n",
    "signifikan antara variabel-variabel tersebut, serta untuk menjawab berbagai pertanyaan\n",
    "penelitian yang diajukan oleh lembaga riset.\n",
    "\n",
    "\n",
    "Atribut: Age, Income, Gender, Education, Stress_Level, Exercise_Hours_Per_Week,\n",
    "Cholesterol_Level, Weight,Height, Blood_Pressure, Health_Status\n",
    "\n",
    "\n",
    "Gunakan alpha = 0.05"
   ]
  },
  {
   "cell_type": "markdown",
   "id": "c901816a63c88523",
   "metadata": {},
   "source": [
    "## Nomor 5: Hipotesis 1 sampel\n",
    "\n",
    "- Lembaga riset saat ini sedang mempertanyakan data berat badan individu yang\n",
    "disimpan untuk kepentingan riset lanjutan. Identifikasilah apakah rata-rata berat badan\n",
    "pasien diatas 65 kg?\n",
    "- Tekanan darah sistole yang normal berada pada rentang 120 mmHg. Lembaga riset\n",
    "perlu untuk memastikan apakah data individu yang diukur cukup normal. Periksalah\n",
    "apakah rata-rata tekanan darah sistole bernilai 120 mmHg?\n",
    "- Periksalah apakah data 200 individu pertama pengujian (baris teratas) memiliki rata-rata\n",
    "waktu olahraga per minggu tidak sama dengan 15 jam?\n",
    "- Apakah penduduk dengan pendapatan yang lebih besar dari Rp 7.500.000,00 tidak\n",
    "sama dengan 30% dari data keseluruhan individu?"
   ]
  },
  {
   "cell_type": "code",
   "execution_count": 3,
   "id": "fc40c0e9dc76cf94",
   "metadata": {
    "ExecuteTime": {
     "end_time": "2024-05-10T15:42:21.823522Z",
     "start_time": "2024-05-10T15:42:21.818655Z"
    }
   },
   "outputs": [],
   "source": []
  },
  {
   "cell_type": "markdown",
   "id": "13116fcbc59c4e5f",
   "metadata": {},
   "source": [
    "## Nomor 6: Hipotesis 2 sampel\n",
    "\n",
    "Lembaga riset membagi data individu menjadi dua bagian, yaitu data individu yang lebih\n",
    "awal masuk data penelitian (bagian atas) dan yang baru saja (bagian bawah).\n",
    "\n",
    "- Periksa apakah rata-rata berat badan individu yang lebih awal masuk data penelitian\n",
    "sama dengan rata-rata berat badan individu yang masuk baru saja?\n",
    "- Bagaimana dengan pendapatan individu, apakah pendapatan sistole individu yang lebih\n",
    "awal masuk data penelitian lebih besar Rp 1.250.000,00 dari yang baru saja masuk?\n",
    "- Lembaga riset ingin membandingkan kondisi kesehatan individu dari dua bagian data.\n",
    "Apakah variansi tekanan darah individu yang lebih awal masuk data penelitian sama\n",
    "dengan yang baru saja masuk?\n",
    "- Apakah proporsi waktu olahraga yang lebih dari 8 jam per minggu pada data individu\n",
    "awal lebih besar daripada kuantitas proporsi pada data individu akhir dengan waktu\n",
    "olahraga yang sama?"
   ]
  },
  {
   "cell_type": "code",
   "execution_count": 3,
   "id": "3c96e68393a64bd4",
   "metadata": {
    "ExecuteTime": {
     "end_time": "2024-05-10T15:42:21.831516Z",
     "start_time": "2024-05-10T15:42:21.826517Z"
    }
   },
   "outputs": [],
   "source": []
  }
 ],
 "metadata": {
  "kernelspec": {
   "display_name": "Python 3 (ipykernel)",
   "language": "python",
   "name": "python3"
  },
  "language_info": {
   "codemirror_mode": {
    "name": "ipython",
    "version": 3
   },
   "file_extension": ".py",
   "mimetype": "text/x-python",
   "name": "python",
   "nbconvert_exporter": "python",
   "pygments_lexer": "ipython3",
   "version": "3.12.2"
  }
 },
 "nbformat": 4,
 "nbformat_minor": 5
}
