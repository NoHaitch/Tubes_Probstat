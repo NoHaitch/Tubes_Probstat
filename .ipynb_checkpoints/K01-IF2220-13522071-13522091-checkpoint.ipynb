{
 "cells": [
  {
   "metadata": {},
   "cell_type": "markdown",
   "source": [
    "<div align=\"center\">\n",
    "    <h1 align=\"center\">Tugas Besar IF2220 Probabilitas dan Statistika 2023/2024</h1>\n",
    "    <h3>Topik : Health</h3>\n",
    "    <strong>\n",
    "        <h4>Dibuat oleh: </h4>\n",
    "        <h4>K01 - Kelompok 24</h4>\n",
    "            <table>\n",
    "              <tr>\n",
    "                <td>NIM</td>\n",
    "                <td>Nama</td>\n",
    "              </tr>\n",
    "              <tr>\n",
    "                <td>13522071</td>\n",
    "                <td>Bagas Sambega Rosyada</td>\n",
    "              </tr>\n",
    "              <tr>\n",
    "                <td>13522091</td>\n",
    "                <td>Raden Francisco Trianto Bratadiningrat</td>\n",
    "              </tr>\n",
    "            </table>\n",
    "      </strong>\n",
    "</div>\n"
   ],
   "id": "24e76fe82f2eace9"
  },
  {
   "metadata": {},
   "cell_type": "markdown",
   "source": "## Setup Python",
   "id": "6001a7b28f2fc6c5"
  },
  {
   "metadata": {
    "ExecuteTime": {
     "end_time": "2024-05-10T13:18:10.304625Z",
     "start_time": "2024-05-10T13:18:08.117565Z"
    }
   },
   "cell_type": "code",
   "source": [
    "import pandas as pd\n",
    "import matplotlib.pyplot as plt\n",
    "import numpy as np\n",
    "\n",
    "data = pd.read_csv(\"health.csv\")\n",
    "data.describe()"
   ],
   "id": "a364fb790004e502",
   "outputs": [
    {
     "data": {
      "text/plain": [
       "        Unnamed: 0          Age        Income  Stress_Level  \\\n",
       "count  2000.000000  2000.000000  2.000000e+03   2000.000000   \n",
       "mean    999.500000    39.417500  4.889928e+06      5.356912   \n",
       "std     577.494589    11.560753  2.010795e+06      0.917069   \n",
       "min       0.000000    20.000000 -1.088987e+06      2.528057   \n",
       "25%     499.750000    30.000000  3.580714e+06      4.737650   \n",
       "50%     999.500000    39.000000  4.898901e+06      5.351795   \n",
       "75%    1499.250000    49.250000  6.271595e+06      6.003014   \n",
       "max    1999.000000    59.000000  1.222749e+07      8.581327   \n",
       "\n",
       "       Exercise_Hours_Per_Week  Cholesterol_Level       Weight       Height  \\\n",
       "count              2000.000000        2000.000000  2000.000000  2000.000000   \n",
       "mean                  9.951842         200.223191    70.234359   150.730565   \n",
       "std                   4.909573           0.972594    10.174343     0.680443   \n",
       "min                  -4.499310         196.914948    32.581758   149.124594   \n",
       "25%                   6.654951         199.581975    63.654894   150.240019   \n",
       "50%                   9.927028         200.221522    70.392125   150.663619   \n",
       "75%                  13.232218         200.873647    76.894512   151.140489   \n",
       "max                  26.816358         203.162335   109.609562   153.870469   \n",
       "\n",
       "       Blood_Pressure  \n",
       "count     2000.000000  \n",
       "mean       119.682437  \n",
       "std         11.201412  \n",
       "min          0.000000  \n",
       "25%        113.048602  \n",
       "50%        119.937396  \n",
       "75%        126.608781  \n",
       "max        200.950000  "
      ],
      "text/html": [
       "<div>\n",
       "<style scoped>\n",
       "    .dataframe tbody tr th:only-of-type {\n",
       "        vertical-align: middle;\n",
       "    }\n",
       "\n",
       "    .dataframe tbody tr th {\n",
       "        vertical-align: top;\n",
       "    }\n",
       "\n",
       "    .dataframe thead th {\n",
       "        text-align: right;\n",
       "    }\n",
       "</style>\n",
       "<table border=\"1\" class=\"dataframe\">\n",
       "  <thead>\n",
       "    <tr style=\"text-align: right;\">\n",
       "      <th></th>\n",
       "      <th>Unnamed: 0</th>\n",
       "      <th>Age</th>\n",
       "      <th>Income</th>\n",
       "      <th>Stress_Level</th>\n",
       "      <th>Exercise_Hours_Per_Week</th>\n",
       "      <th>Cholesterol_Level</th>\n",
       "      <th>Weight</th>\n",
       "      <th>Height</th>\n",
       "      <th>Blood_Pressure</th>\n",
       "    </tr>\n",
       "  </thead>\n",
       "  <tbody>\n",
       "    <tr>\n",
       "      <th>count</th>\n",
       "      <td>2000.000000</td>\n",
       "      <td>2000.000000</td>\n",
       "      <td>2.000000e+03</td>\n",
       "      <td>2000.000000</td>\n",
       "      <td>2000.000000</td>\n",
       "      <td>2000.000000</td>\n",
       "      <td>2000.000000</td>\n",
       "      <td>2000.000000</td>\n",
       "      <td>2000.000000</td>\n",
       "    </tr>\n",
       "    <tr>\n",
       "      <th>mean</th>\n",
       "      <td>999.500000</td>\n",
       "      <td>39.417500</td>\n",
       "      <td>4.889928e+06</td>\n",
       "      <td>5.356912</td>\n",
       "      <td>9.951842</td>\n",
       "      <td>200.223191</td>\n",
       "      <td>70.234359</td>\n",
       "      <td>150.730565</td>\n",
       "      <td>119.682437</td>\n",
       "    </tr>\n",
       "    <tr>\n",
       "      <th>std</th>\n",
       "      <td>577.494589</td>\n",
       "      <td>11.560753</td>\n",
       "      <td>2.010795e+06</td>\n",
       "      <td>0.917069</td>\n",
       "      <td>4.909573</td>\n",
       "      <td>0.972594</td>\n",
       "      <td>10.174343</td>\n",
       "      <td>0.680443</td>\n",
       "      <td>11.201412</td>\n",
       "    </tr>\n",
       "    <tr>\n",
       "      <th>min</th>\n",
       "      <td>0.000000</td>\n",
       "      <td>20.000000</td>\n",
       "      <td>-1.088987e+06</td>\n",
       "      <td>2.528057</td>\n",
       "      <td>-4.499310</td>\n",
       "      <td>196.914948</td>\n",
       "      <td>32.581758</td>\n",
       "      <td>149.124594</td>\n",
       "      <td>0.000000</td>\n",
       "    </tr>\n",
       "    <tr>\n",
       "      <th>25%</th>\n",
       "      <td>499.750000</td>\n",
       "      <td>30.000000</td>\n",
       "      <td>3.580714e+06</td>\n",
       "      <td>4.737650</td>\n",
       "      <td>6.654951</td>\n",
       "      <td>199.581975</td>\n",
       "      <td>63.654894</td>\n",
       "      <td>150.240019</td>\n",
       "      <td>113.048602</td>\n",
       "    </tr>\n",
       "    <tr>\n",
       "      <th>50%</th>\n",
       "      <td>999.500000</td>\n",
       "      <td>39.000000</td>\n",
       "      <td>4.898901e+06</td>\n",
       "      <td>5.351795</td>\n",
       "      <td>9.927028</td>\n",
       "      <td>200.221522</td>\n",
       "      <td>70.392125</td>\n",
       "      <td>150.663619</td>\n",
       "      <td>119.937396</td>\n",
       "    </tr>\n",
       "    <tr>\n",
       "      <th>75%</th>\n",
       "      <td>1499.250000</td>\n",
       "      <td>49.250000</td>\n",
       "      <td>6.271595e+06</td>\n",
       "      <td>6.003014</td>\n",
       "      <td>13.232218</td>\n",
       "      <td>200.873647</td>\n",
       "      <td>76.894512</td>\n",
       "      <td>151.140489</td>\n",
       "      <td>126.608781</td>\n",
       "    </tr>\n",
       "    <tr>\n",
       "      <th>max</th>\n",
       "      <td>1999.000000</td>\n",
       "      <td>59.000000</td>\n",
       "      <td>1.222749e+07</td>\n",
       "      <td>8.581327</td>\n",
       "      <td>26.816358</td>\n",
       "      <td>203.162335</td>\n",
       "      <td>109.609562</td>\n",
       "      <td>153.870469</td>\n",
       "      <td>200.950000</td>\n",
       "    </tr>\n",
       "  </tbody>\n",
       "</table>\n",
       "</div>"
      ]
     },
     "execution_count": 14,
     "metadata": {},
     "output_type": "execute_result"
    }
   ],
   "execution_count": 14
  },
  {
   "metadata": {},
   "cell_type": "markdown",
   "source": [
    "# Soal General\n",
    "\n",
    "## Nomor 1\n",
    "\n",
    "Menulis deskripsi statistika (Descriptive Statistics) dari semua kolom pada data. Data\n",
    "yang bersifat numerik dapat diberikan nilai mean, median, modus, standar deviasi,\n",
    "variansi, range, nilai minimum, maksimum, kuartil, IQR, skewness dan kurtosis. Data\n",
    "dalam bentuk string dapat dicari unique values, dan proporsi nya."
   ],
   "id": "ddebdf6199882252"
  },
  {
   "metadata": {
    "ExecuteTime": {
     "end_time": "2024-05-10T13:15:10.475698Z",
     "start_time": "2024-05-10T13:15:10.439845Z"
    }
   },
   "cell_type": "code",
   "source": [
    "# Read health data\n",
    "\n",
    "# Get data info\n",
    "df.info()"
   ],
   "id": "be2266de52a05356",
   "outputs": [
    {
     "name": "stdout",
     "output_type": "stream",
     "text": [
      "<class 'pandas.core.frame.DataFrame'>\n",
      "RangeIndex: 2000 entries, 0 to 1999\n",
      "Data columns (total 12 columns):\n",
      " #   Column                   Non-Null Count  Dtype  \n",
      "---  ------                   --------------  -----  \n",
      " 0   Unnamed: 0               2000 non-null   int64  \n",
      " 1   Age                      2000 non-null   int64  \n",
      " 2   Income                   2000 non-null   float64\n",
      " 3   Gender                   2000 non-null   object \n",
      " 4   Education                2000 non-null   object \n",
      " 5   Stress_Level             2000 non-null   float64\n",
      " 6   Exercise_Hours_Per_Week  2000 non-null   float64\n",
      " 7   Cholesterol_Level        2000 non-null   float64\n",
      " 8   Weight                   2000 non-null   float64\n",
      " 9   Height                   2000 non-null   float64\n",
      " 10  Blood_Pressure           2000 non-null   float64\n",
      " 11  Health_Status            2000 non-null   object \n",
      "dtypes: float64(7), int64(2), object(3)\n",
      "memory usage: 187.6+ KB\n"
     ]
    }
   ],
   "execution_count": 13
  },
  {
   "metadata": {},
   "cell_type": "code",
   "outputs": [],
   "execution_count": null,
   "source": [
    "# Analisis data Age\n",
    "print()"
   ],
   "id": "fb4dfcf3c57dacd6"
  },
  {
   "metadata": {},
   "cell_type": "markdown",
   "source": [
    "### Jawab\n",
    "\n",
    "Data terdiri dari 12 kolom, yaitu:\n",
    "- Index\n",
    "- Age\n",
    "- Income\n",
    "- Gender\n",
    "- Education\n",
    "- Stress_Level\n",
    "- Exercise_Hours_Per_Week\n",
    "- Cholesterol_Level\n",
    "- Weight\n",
    "- Height\n",
    "- Blood_Pressure\n",
    "- Health_Status"
   ],
   "id": "5acf42e4df82a557"
  },
  {
   "metadata": {},
   "cell_type": "markdown",
   "source": [
    "## Nomor 2\n",
    "\n",
    "Apakah pada data tersebut terdapat outlier? Jika ya, dapatkah anda menanganinya?\n",
    "Jelaskan apa yang umumnya dilakukan untuk menangani outlier."
   ],
   "id": "476aaeb75bae900"
  },
  {
   "metadata": {
    "ExecuteTime": {
     "end_time": "2024-05-10T13:08:39.443307Z",
     "start_time": "2024-05-10T13:08:39.439143Z"
    }
   },
   "cell_type": "code",
   "source": "",
   "id": "ce732dede4165444",
   "outputs": [],
   "execution_count": 4
  },
  {
   "metadata": {},
   "cell_type": "markdown",
   "source": [
    "## Nomor 3\n",
    "\n",
    "Membuat Visualisasi plot distribusi. Berikan uraian penjelasan kondisi setiap kolom\n",
    "berdasarkan kedua plot tersebut. Jika numerik dapat dibuat dalam bentuk histogram dan\n",
    "box plot, dan jika string dengan histogram."
   ],
   "id": "a775699c244ab6ab"
  },
  {
   "metadata": {
    "ExecuteTime": {
     "end_time": "2024-05-10T13:08:39.451510Z",
     "start_time": "2024-05-10T13:08:39.448323Z"
    }
   },
   "cell_type": "code",
   "source": "",
   "id": "96fab2a9a5729d3a",
   "outputs": [],
   "execution_count": 4
  },
  {
   "metadata": {},
   "cell_type": "markdown",
   "source": [
    "## Nomor 4\n",
    "\n",
    "Menentukan distribusi setiap kolom numerik menggunakan hasil visualisasi histogram.\n",
    "Apakah kolom tersebut berdistribusi normal? Jika bukan, terdistribusi seperti apa kolom\n",
    "tersebut?"
   ],
   "id": "f13e96fc8b393c5"
  },
  {
   "metadata": {
    "ExecuteTime": {
     "end_time": "2024-05-10T13:08:39.474906Z",
     "start_time": "2024-05-10T13:08:39.472518Z"
    }
   },
   "cell_type": "code",
   "source": "",
   "id": "63b8867428443038",
   "outputs": [],
   "execution_count": 4
  },
  {
   "metadata": {},
   "cell_type": "markdown",
   "source": [
    "# Soal khusus dataset\n",
    "\n",
    "Mira adalah seorang peneliti kesehatan yang bekerja di sebuah lembaga riset medis\n",
    "yang terkemuka. Sebagai bagian dari tugasnya, Mira memiliki akses ke sebuah dataset yang\n",
    "berisi informasi tentang profil kesehatan dan gaya hidup dari sejumlah individu. Mira\n",
    "bertanggung jawab untuk melakukan analisis statistika terhadap dataset ini guna mendapatkan\n",
    "pemahaman yang lebih baik tentang faktor-faktor yang mempengaruhi kesehatan dan kualitas\n",
    "hidup individu. Selain itu, Mira juga diminta untuk mengidentifikasi pola dan hubungan yang\n",
    "signifikan antara variabel-variabel tersebut, serta untuk menjawab berbagai pertanyaan\n",
    "penelitian yang diajukan oleh lembaga riset.\n",
    "\n",
    "\n",
    "Atribut: Age, Income, Gender, Education, Stress_Level, Exercise_Hours_Per_Week,\n",
    "Cholesterol_Level, Weight,Height, Blood_Pressure, Health_Status\n",
    "\n",
    "\n",
    "Gunakan alpha = 0.05"
   ],
   "id": "bebb1023f05f925d"
  },
  {
   "metadata": {},
   "cell_type": "markdown",
   "source": [
    "## Nomor 5: Hipotesis 1 sampel\n",
    "\n",
    "- Lembaga riset saat ini sedang mempertanyakan data berat badan individu yang\n",
    "disimpan untuk kepentingan riset lanjutan. Identifikasilah apakah rata-rata berat badan\n",
    "pasien diatas 65 kg?\n",
    "- Tekanan darah sistole yang normal berada pada rentang 120 mmHg. Lembaga riset\n",
    "perlu untuk memastikan apakah data individu yang diukur cukup normal. Periksalah\n",
    "apakah rata-rata tekanan darah sistole bernilai 120 mmHg?\n",
    "- Periksalah apakah data 200 individu pertama pengujian (baris teratas) memiliki rata-rata\n",
    "waktu olahraga per minggu tidak sama dengan 15 jam?\n",
    "- Apakah penduduk dengan pendapatan yang lebih besar dari Rp 7.500.000,00 tidak\n",
    "sama dengan 30% dari data keseluruhan individu?"
   ],
   "id": "c901816a63c88523"
  },
  {
   "metadata": {
    "ExecuteTime": {
     "end_time": "2024-05-10T13:08:39.487048Z",
     "start_time": "2024-05-10T13:08:39.483920Z"
    }
   },
   "cell_type": "code",
   "source": "",
   "id": "fc40c0e9dc76cf94",
   "outputs": [],
   "execution_count": 4
  },
  {
   "metadata": {},
   "cell_type": "markdown",
   "source": [
    "## Nomor 6: Hipotesis 2 sampel\n",
    "\n",
    "Lembaga riset membagi data individu menjadi dua bagian, yaitu data individu yang lebih\n",
    "awal masuk data penelitian (bagian atas) dan yang baru saja (bagian bawah).\n",
    "\n",
    "- Periksa apakah rata-rata berat badan individu yang lebih awal masuk data penelitian\n",
    "sama dengan rata-rata berat badan individu yang masuk baru saja?\n",
    "- Bagaimana dengan pendapatan individu, apakah pendapatan sistole individu yang lebih\n",
    "awal masuk data penelitian lebih besar Rp 1.250.000,00 dari yang baru saja masuk?\n",
    "- Lembaga riset ingin membandingkan kondisi kesehatan individu dari dua bagian data.\n",
    "Apakah variansi tekanan darah individu yang lebih awal masuk data penelitian sama\n",
    "dengan yang baru saja masuk?\n",
    "- Apakah proporsi waktu olahraga yang lebih dari 8 jam per minggu pada data individu\n",
    "awal lebih besar daripada kuantitas proporsi pada data individu akhir dengan waktu\n",
    "olahraga yang sama?"
   ],
   "id": "13116fcbc59c4e5f"
  },
  {
   "metadata": {
    "ExecuteTime": {
     "end_time": "2024-05-10T13:08:39.491103Z",
     "start_time": "2024-05-10T13:08:39.488070Z"
    }
   },
   "cell_type": "code",
   "source": "",
   "id": "3c96e68393a64bd4",
   "outputs": [],
   "execution_count": 4
  }
 ],
 "metadata": {
  "kernelspec": {
   "display_name": "Python 3",
   "language": "python",
   "name": "python3"
  },
  "language_info": {
   "codemirror_mode": {
    "name": "ipython",
    "version": 2
   },
   "file_extension": ".py",
   "mimetype": "text/x-python",
   "name": "python",
   "nbconvert_exporter": "python",
   "pygments_lexer": "ipython2",
   "version": "2.7.6"
  }
 },
 "nbformat": 4,
 "nbformat_minor": 5
}
